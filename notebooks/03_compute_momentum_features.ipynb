{
 "cells": [
  {
   "cell_type": "code",
   "execution_count": null,
   "id": "3968ea0e",
   "metadata": {},
   "outputs": [],
   "source": [
    "import pandas as pd\n",
    "from pathlib import Path\n",
    "import os\n",
    "\n",
    "#adding momentum scores columns 1month, 3 months, 6 months, 12 months\n",
    "def add_momentum_columns(df):\n",
    "    df[\"ret_1m\"] = df[\"Close\"]/df[\"Close\"].shift(21)-1 #21 trading days in a month\n",
    "    df[\"ret_3m\"] = df[\"Close\"]/df[\"Close\"].shift(63)-1 #63 trading days in 3 months\n",
    "    df[\"ret_6m\"] = df[\"Close\"]/df[\"Close\"].shift(126)-1 #126 trading days in 6 months\n",
    "    df[\"ret_12m\"] = df[\"Close\"]/df[\"Close\"].shift(252)-1 #252 trading days in a year\n",
    "    return df"
   ]
  },
  {
   "cell_type": "code",
   "execution_count": null,
   "id": "6a498594",
   "metadata": {},
   "outputs": [],
   "source": [
    "#test for one file\n",
    "\n",
    "\n",
    "input_path = Path(\"../data/stock_data\")\n",
    "\n",
    "output_path = Path(\"../data/momentum_data\")\n",
    "\n",
    "for file in input_path.iterdir():\n",
    "    try:\n",
    "        input_file = file\n",
    "        output_file = output_path/file.name\n",
    "\n",
    "        df = pd.read_csv(input_file, parse_dates=[\"Date\"], index_col = \"Date\")\n",
    "        df = df.sort_index() \n",
    "        df = add_momentum_columns(df)\n",
    "        df = df[df.index>= \"2024-01-01\"]\n",
    "\n",
    "        df.to_csv(output_file)\n",
    "        print(f\"Added momentum cols and saved: {output_file.name}\")\n",
    "\n",
    "    except Exception as e:\n",
    "        print(f\" skipped{file} due to error{e}\")\n",
    "\n"
   ]
  }
 ],
 "metadata": {
  "kernelspec": {
   "display_name": "base",
   "language": "python",
   "name": "python3"
  },
  "language_info": {
   "codemirror_mode": {
    "name": "ipython",
    "version": 3
   },
   "file_extension": ".py",
   "mimetype": "text/x-python",
   "name": "python",
   "nbconvert_exporter": "python",
   "pygments_lexer": "ipython3",
   "version": "3.11.5"
  }
 },
 "nbformat": 4,
 "nbformat_minor": 5
}
