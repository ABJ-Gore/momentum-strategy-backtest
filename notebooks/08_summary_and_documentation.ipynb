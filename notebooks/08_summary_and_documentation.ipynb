{
 "cells": [
  {
   "cell_type": "code",
   "execution_count": 2,
   "id": "92a1fba0",
   "metadata": {},
   "outputs": [],
   "source": [
    "import pandas as pd\n",
    "import numpy as np"
   ]
  },
  {
   "cell_type": "code",
   "execution_count": 3,
   "id": "9a14bcd5",
   "metadata": {},
   "outputs": [
    {
     "data": {
      "text/html": [
       "<div>\n",
       "<style scoped>\n",
       "    .dataframe tbody tr th:only-of-type {\n",
       "        vertical-align: middle;\n",
       "    }\n",
       "\n",
       "    .dataframe tbody tr th {\n",
       "        vertical-align: top;\n",
       "    }\n",
       "\n",
       "    .dataframe thead th {\n",
       "        text-align: right;\n",
       "    }\n",
       "</style>\n",
       "<table border=\"1\" class=\"dataframe\">\n",
       "  <thead>\n",
       "    <tr style=\"text-align: right;\">\n",
       "      <th></th>\n",
       "      <th>Metrics</th>\n",
       "      <th>Value</th>\n",
       "    </tr>\n",
       "  </thead>\n",
       "  <tbody>\n",
       "    <tr>\n",
       "      <th>0</th>\n",
       "      <td>Cummulatice return(%)</td>\n",
       "      <td>7.40%</td>\n",
       "    </tr>\n",
       "    <tr>\n",
       "      <th>1</th>\n",
       "      <td>Monthly Volatility (%)</td>\n",
       "      <td>5146.96%</td>\n",
       "    </tr>\n",
       "    <tr>\n",
       "      <th>2</th>\n",
       "      <td>Annulized Volatility(%)</td>\n",
       "      <td>17829.58%</td>\n",
       "    </tr>\n",
       "    <tr>\n",
       "      <th>3</th>\n",
       "      <td>Sharpe ratio</td>\n",
       "      <td>0.81</td>\n",
       "    </tr>\n",
       "    <tr>\n",
       "      <th>4</th>\n",
       "      <td>Max Drawdown(%)</td>\n",
       "      <td>-3.78%</td>\n",
       "    </tr>\n",
       "    <tr>\n",
       "      <th>5</th>\n",
       "      <td>Calmar Ratio</td>\n",
       "      <td>1.96</td>\n",
       "    </tr>\n",
       "  </tbody>\n",
       "</table>\n",
       "</div>"
      ],
      "text/plain": [
       "                   Metrics      Value\n",
       "0    Cummulatice return(%)      7.40%\n",
       "1   Monthly Volatility (%)   5146.96%\n",
       "2  Annulized Volatility(%)  17829.58%\n",
       "3             Sharpe ratio       0.81\n",
       "4          Max Drawdown(%)     -3.78%\n",
       "5             Calmar Ratio       1.96"
      ]
     },
     "execution_count": 3,
     "metadata": {},
     "output_type": "execute_result"
    }
   ],
   "source": [
    "df =pd.read_csv(\"../data/backtest_results/monthly_performance.csv\")\n",
    "\n",
    "\n",
    "cummulative_return=(df[\"portfolio_value\"].iloc[-1]/df[\"portfolio_value\"].iloc[0])-1\n",
    "\n",
    "#monthly stats\n",
    "mean_return= df[\"return_pct\"].mean()\n",
    "volatility_monthly= df[\"return_pct\"].std()\n",
    "\n",
    "#annualized metrics, standard formula monthly standard deviation times sqrt(12)\n",
    "volatility_annual = volatility_monthly*np.sqrt(12)\n",
    "sharpe_ratio = mean_return/volatility_monthly if volatility_monthly!=0 else np.nan\n",
    "\n",
    "df[\"cum_max\"] = df[\"portfolio_value\"].cummax()\n",
    "df[\"drawdown\"] = df[\"portfolio_value\"]/df[\"cum_max\"]-1\n",
    "max_drawdown = df[\"drawdown\"].min()\n",
    "calmar_ratio = cummulative_return/abs(max_drawdown) if max_drawdown != 0 else np.nan\n",
    "\n",
    "summary = {\n",
    "    \"Cummulatice return(%)\": f\"{cummulative_return:.2%}\",\n",
    "    \"Monthly Volatility (%)\": f\"{volatility_monthly:.2%}\",\n",
    "    \"Annulized Volatility(%)\": f\"{volatility_annual:.2%}\",\n",
    "    \"Sharpe ratio\": round(sharpe_ratio,2),\n",
    "    \"Max Drawdown(%)\": f\"{max_drawdown:.2%}\",\n",
    "    \"Calmar Ratio\": round(calmar_ratio,2),\n",
    "}\n",
    "\n",
    "summary_df = pd.DataFrame(summary.items(), columns=[\"Metrics\",\"Value\"])\n",
    "summary_df.to_csv(\"../data/summary_metrics.csv\")\n",
    "summary_df"
   ]
  },
  {
   "cell_type": "markdown",
   "id": "63e8c69c",
   "metadata": {},
   "source": [
    "## Summary & Insights\n",
    "\n",
    "This project backtested a long-short momentum strategy across 2024.\n",
    "\n",
    "- Portfolio started with $1,000.\n",
    "- Monthly rebalancing based on top/bottom 20 momentum.\n",
    "- Strategy metrics:\n",
    "    - Sharpe Ratio: 0.81\n",
    "    - Max Drawdown: -3.78%\n",
    "    - Calmar Ratio: 1.96\n",
    "    - Cumulative Return: 7.40%\n",
    "\n",
    "**Visualizations are saved in the `visuals/` folder.**"
   ]
  }
 ],
 "metadata": {
  "kernelspec": {
   "display_name": "base",
   "language": "python",
   "name": "python3"
  },
  "language_info": {
   "codemirror_mode": {
    "name": "ipython",
    "version": 3
   },
   "file_extension": ".py",
   "mimetype": "text/x-python",
   "name": "python",
   "nbconvert_exporter": "python",
   "pygments_lexer": "ipython3",
   "version": "3.11.5"
  }
 },
 "nbformat": 4,
 "nbformat_minor": 5
}
