{
 "cells": [
  {
   "cell_type": "code",
   "execution_count": 9,
   "id": "c4e9c5a7",
   "metadata": {},
   "outputs": [],
   "source": [
    "import pandas as pd\n",
    "import numpy as np\n",
    "import json"
   ]
  },
  {
   "cell_type": "code",
   "execution_count": 5,
   "id": "5af415fd",
   "metadata": {},
   "outputs": [],
   "source": [
    "df = pd.read_csv(\"../data/backtest_results/monthly_performance.csv\", parse_dates=[\"Date\"])\n",
    "\n",
    "df[\"return_pct\"] = pd.to_numeric(df[\"return_pct\"], errors=\"coerce\")\n"
   ]
  },
  {
   "cell_type": "code",
   "execution_count": 7,
   "id": "c5b61ba2",
   "metadata": {},
   "outputs": [],
   "source": [
    "#cummulatice return\n",
    "cummulative_return=(df[\"portfolio_value\"].iloc[-1]/df[\"portfolio_value\"].iloc[0])-1\n",
    "\n",
    "#monthly stats\n",
    "mean_return= df[\"return_pct\"].mean()\n",
    "volatility_monthly= df[\"return_pct\"].std()\n",
    "\n",
    "#annualized metrics, standard formula monthly standard deviation times sqrt(12)\n",
    "volatility_annual = volatility_monthly*np.sqrt(12)\n",
    "sharpe_ratio = mean_return/volatility_monthly if volatility_monthly!=0 else np.nan\n",
    "\n",
    "df[\"cum_max\"] = df[\"portfolio_value\"].cummax()\n",
    "df[\"drawdown\"] = df[\"portfolio_value\"]/df[\"cum_max\"]-1\n",
    "max_drawdown = df[\"drawdown\"].min()\n",
    "calmar_ratio = cummulative_return/abs(max_drawdown) if max_drawdown != 0 else np.nan"
   ]
  },
  {
   "cell_type": "code",
   "execution_count": 12,
   "id": "26eca384",
   "metadata": {},
   "outputs": [
    {
     "name": "stdout",
     "output_type": "stream",
     "text": [
      "Risk metrics saved in backtest_results/risk_metrics.json\n"
     ]
    }
   ],
   "source": [
    "risk_metrics = {\n",
    "    \"Cummulatice return(%)\": round(cummulative_return*100,2),\n",
    "    \"Monthly Volatility (%)\": round(volatility_monthly,2),\n",
    "    \"Annulized Volatility(%)\": round(volatility_annual,2),\n",
    "    \"Sharpe ratio\": round(sharpe_ratio,2),\n",
    "    \"Max Drawdown(%)\": round(max_drawdown*100,2),\n",
    "    \"Calmar Ratio\": round(calmar_ratio,2),\n",
    "}\n",
    "\n",
    "\n",
    "with open(\"../data/backtest_results/risk_metrics.json\",\"w\") as f:\n",
    "    json.dump(risk_metrics,f,indent=4)\n",
    "\n",
    "\n",
    "print(\"Risk metrics saved in backtest_results/risk_metrics.json\")"
   ]
  }
 ],
 "metadata": {
  "kernelspec": {
   "display_name": "base",
   "language": "python",
   "name": "python3"
  },
  "language_info": {
   "codemirror_mode": {
    "name": "ipython",
    "version": 3
   },
   "file_extension": ".py",
   "mimetype": "text/x-python",
   "name": "python",
   "nbconvert_exporter": "python",
   "pygments_lexer": "ipython3",
   "version": "3.11.5"
  }
 },
 "nbformat": 4,
 "nbformat_minor": 5
}
